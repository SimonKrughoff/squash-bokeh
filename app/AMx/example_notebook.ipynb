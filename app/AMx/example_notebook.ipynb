{
 "cells": [
  {
   "cell_type": "code",
   "execution_count": null,
   "metadata": {},
   "outputs": [],
   "source": [
    "from amx_interactions import Interactions\n",
    "from jupyterlabutils import show_with_bokeh_server"
   ]
  },
  {
   "cell_type": "code",
   "execution_count": null,
   "metadata": {},
   "outputs": [],
   "source": [
    "from bokeh.io import output_notebook\n",
    "from bokeh.resources import INLINE\n",
    "output_notebook(INLINE, hide_banner=True)\n",
    "\n",
    "import os\n",
    "os.environ['SQUASH_API_URL'] = 'https://squash-restful-api.lsst.codes'\n",
    "interaction = Interactions()\n",
    "\n",
    "def show_magic_bokeh_graph(doc):\n",
    "   doc.add_root(interaction.layout) \n",
    "\n",
    "show_with_bokeh_server(show_magic_bokeh_graph)"
   ]
  },
  {
   "cell_type": "code",
   "execution_count": null,
   "metadata": {},
   "outputs": [],
   "source": []
  }
 ],
 "metadata": {
  "kernelspec": {
   "display_name": "LSST",
   "language": "python",
   "name": "lsst"
  },
  "language_info": {
   "codemirror_mode": {
    "name": "ipython",
    "version": 3
   },
   "file_extension": ".py",
   "mimetype": "text/x-python",
   "name": "python",
   "nbconvert_exporter": "python",
   "pygments_lexer": "ipython3",
   "version": "3.7.2"
  }
 },
 "nbformat": 4,
 "nbformat_minor": 2
}
